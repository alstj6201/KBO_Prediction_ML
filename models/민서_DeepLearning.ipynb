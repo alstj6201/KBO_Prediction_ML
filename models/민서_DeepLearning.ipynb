{
 "cells": [
  {
   "cell_type": "markdown",
   "id": "03ea5fcf",
   "metadata": {},
   "source": [
    "# 딥러닝 모델 생성"
   ]
  },
  {
   "cell_type": "code",
   "execution_count": 16,
   "id": "108fa359",
   "metadata": {},
   "outputs": [],
   "source": [
    "import pandas as pd\n",
    "\n",
    "# CSV 파일 읽기\n",
    "df = pd.read_csv('../data/real_final.csv')"
   ]
  },
  {
   "cell_type": "code",
   "execution_count": 18,
   "id": "82031c8d",
   "metadata": {},
   "outputs": [
    {
     "name": "stdout",
     "output_type": "stream",
     "text": [
      "GameDate              0\n",
      "home_Team             0\n",
      "away_Team             0\n",
      "home_win              0\n",
      "home_Recent_5_Win     0\n",
      "home_Recent_5_Loss    0\n",
      "home_OPS              0\n",
      "home_BB               0\n",
      "home_HBP              0\n",
      "home_SO               0\n",
      "home_ERA              0\n",
      "home_BB_p             0\n",
      "home_K                0\n",
      "home_IR               1\n",
      "home_IS               1\n",
      "home_TBF              0\n",
      "away_OPS              0\n",
      "away_BB               0\n",
      "away_HBP              0\n",
      "away_SO               0\n",
      "away_ERA              0\n",
      "away_BB_p             0\n",
      "away_K                0\n",
      "away_IR               1\n",
      "away_IS               1\n",
      "away_TBF              0\n",
      "dtype: int64\n",
      "Null이 있는 인덱스: [1488]\n",
      "Null이 있는 인덱스: [1488]\n",
      "Null이 있는 인덱스: [1613]\n",
      "Null이 있는 인덱스: [1613]\n",
      "1613   NaN\n",
      "Name: home_IR, dtype: float64\n",
      "1613   NaN\n",
      "Name: home_IS, dtype: float64\n",
      "away_IR 값: 1488   NaN\n",
      "Name: away_IR, dtype: float64\n",
      "away_IS 값: 1488   NaN\n",
      "Name: away_IS, dtype: float64\n"
     ]
    }
   ],
   "source": [
    "# 결측치 확인\n",
    "print(df.isnull().sum())\n",
    "\n",
    "\n",
    "# away_IR 또는 away_IS가 null인 행 찾기\n",
    "null_row1 = df[df[['away_IR']].isnull().any(axis=1)]\n",
    "null_row2 = df[df[['away_IS']].isnull().any(axis=1)]\n",
    "\n",
    "null_row3 = df[df[['home_IR']].isnull().any(axis=1)]\n",
    "null_row4 = df[df[['home_IS']].isnull().any(axis=1)]\n",
    "\n",
    "# null 행 출력\n",
    "\n",
    "\n",
    "# null인 인덱스만 보고 싶다면\n",
    "print(\"Null이 있는 인덱스:\", null_row1.index.tolist())\n",
    "print(\"Null이 있는 인덱스:\", null_row2.index.tolist())\n",
    "\n",
    "print(\"Null이 있는 인덱스:\", null_row3.index.tolist())\n",
    "print(\"Null이 있는 인덱스:\", null_row4.index.tolist())\n",
    "\n",
    "# # feature와 label 나누기\n",
    "# X = df.drop(columns=['result'])  # 'result'는 label\n",
    "# y = df['result']\n",
    "\n",
    "print(null_row3['home_IR'])\n",
    "print(null_row4['home_IS'])\n",
    "print(\"away_IR 값:\", null_row1['away_IR'])  # NaN인지 직접 확인\n",
    "print(\"away_IS 값:\", null_row2['away_IS'])  # NaN인지 직접 확인\n"
   ]
  },
  {
   "cell_type": "code",
   "execution_count": null,
   "id": "7bf63b32",
   "metadata": {},
   "outputs": [],
   "source": []
  }
 ],
 "metadata": {
  "kernelspec": {
   "display_name": "Python 3",
   "language": "python",
   "name": "python3"
  },
  "language_info": {
   "codemirror_mode": {
    "name": "ipython",
    "version": 3
   },
   "file_extension": ".py",
   "mimetype": "text/x-python",
   "name": "python",
   "nbconvert_exporter": "python",
   "pygments_lexer": "ipython3",
   "version": "3.12.2"
  }
 },
 "nbformat": 4,
 "nbformat_minor": 5
}
