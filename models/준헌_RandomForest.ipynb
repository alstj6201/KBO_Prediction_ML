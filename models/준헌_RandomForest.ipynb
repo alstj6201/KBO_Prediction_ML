{
 "cells": [
  {
   "cell_type": "code",
   "execution_count": null,
   "id": "595defa7",
   "metadata": {
    "vscode": {
     "languageId": "plaintext"
    }
   },
   "outputs": [],
   "source": [
    "asdfghjk\n"
   ]
  }
 ],
 "metadata": {
  "language_info": {
   "name": "python"
  }
 },
 "nbformat": 4,
 "nbformat_minor": 5
}
