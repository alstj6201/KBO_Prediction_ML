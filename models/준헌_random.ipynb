{
 "cells": [
  {
   "cell_type": "code",
   "execution_count": 1,
   "id": "25641e25",
   "metadata": {},
   "outputs": [],
   "source": [
    "# 라이브러리 불러오기\n",
    "import pandas as pd\n",
    "from sklearn.ensemble import RandomForestClassifier\n",
    "from sklearn.model_selection import train_test_split\n",
    "from sklearn.metrics import accuracy_score, classification_report, roc_auc_score, ConfusionMatrixDisplay, RocCurveDisplay\n",
    "import matplotlib.pyplot as plt\n",
    "import seaborn as sns\n",
    "import joblib\n",
    "from sklearn.preprocessing import LabelEncoder\n",
    "import warnings\n",
    "warnings.filterwarnings(\"ignore\")"
   ]
  },
  {
   "cell_type": "code",
   "execution_count": 2,
   "id": "008cea98",
   "metadata": {},
   "outputs": [],
   "source": [
    "# 1. 데이터 불러오기\n",
    "df = pd.read_csv(\"C:/Users/LG/OneDrive/문서/GitHub/KBO_Prediction_ML/data/real_final.csv\")  # 경로는 필요에 따라 수정하세요"
   ]
  },
  {
   "cell_type": "code",
   "execution_count": 3,
   "id": "60a5e500",
   "metadata": {},
   "outputs": [
    {
     "name": "stdout",
     "output_type": "stream",
     "text": [
      "GameDate              0\n",
      "home_Team             0\n",
      "away_Team             0\n",
      "Result                0\n",
      "home_Recent_5_Win     0\n",
      "home_Recent_5_Loss    0\n",
      "home_OPS              0\n",
      "home_BB               0\n",
      "home_HBP              0\n",
      "home_SO               0\n",
      "home_ERA              0\n",
      "home_BB_p             0\n",
      "home_K                0\n",
      "home_IR               0\n",
      "home_IS               0\n",
      "home_TBF              0\n",
      "away_OPS              0\n",
      "away_BB               0\n",
      "away_HBP              0\n",
      "away_SO               0\n",
      "away_ERA              0\n",
      "away_BB_p             0\n",
      "away_K                0\n",
      "away_IR               0\n",
      "away_IS               0\n",
      "away_TBF              0\n",
      "dtype: int64\n"
     ]
    }
   ],
   "source": [
    "# 2. 결측치 확인\n",
    "print(df.isnull().sum())"
   ]
  },
  {
   "cell_type": "code",
   "execution_count": null,
   "id": "da918bf5",
   "metadata": {},
   "outputs": [],
   "source": [
    "# 3. 문자열 타입(만약 있으면) 인코딩 (예: home_Team, away_Team가 숫자형이라면 생략 가능)\n",
    "# LabelEncoder 적용. \n",
    "label_encoders = {}\n",
    "for col in df.select_dtypes(include=['object']).columns:\n",
    "    le = LabelEncoder()\n",
    "    df[col] = le.fit_transform(df[col])\n",
    "    label_encoders[col] = le"
   ]
  },
  {
   "cell_type": "code",
   "execution_count": 5,
   "id": "51e1d79b",
   "metadata": {},
   "outputs": [],
   "source": [
    "# 4. feature와 label 나누기\n",
    "df = df.drop(columns=['GameDate'])\n",
    "X = df.drop(columns=['Result'])\n",
    "y = df['Result']"
   ]
  },
  {
   "cell_type": "code",
   "execution_count": 6,
   "id": "346b450a",
   "metadata": {},
   "outputs": [],
   "source": [
    "# 5. 학습/테스트 데이터 분리\n",
    "X_train, X_test, y_train, y_test = train_test_split(X, y, test_size=0.2, random_state=3, stratify=y)"
   ]
  },
  {
   "cell_type": "code",
   "execution_count": 7,
   "id": "974222ca",
   "metadata": {},
   "outputs": [
    {
     "name": "stdout",
     "output_type": "stream",
     "text": [
      "최고 정확도: 0.8754098360655738\n",
      "최적 파라미터: {'n_estimators': 200, 'max_depth': 20, 'min_samples_split': 5, 'min_samples_leaf': 1, 'max_features': 'sqrt'}\n"
     ]
    }
   ],
   "source": [
    "# 6. 반복문으로 하이퍼파라미터 조합 탐색 및 평가\n",
    "best_acc = 0\n",
    "best_params = {}\n",
    "best_model = None\n",
    "\n",
    "n_estimators_list = [100, 200]\n",
    "max_depth_list = [10, 20, None]\n",
    "min_samples_split_list = [2, 5]\n",
    "min_samples_leaf_list = [1, 2]\n",
    "max_features_list = ['sqrt', 'log2']\n",
    "\n",
    "for n_estimators in n_estimators_list:\n",
    "    for max_depth in max_depth_list:\n",
    "        for min_samples_split in min_samples_split_list:\n",
    "            for min_samples_leaf in min_samples_leaf_list:\n",
    "                for max_features in max_features_list:\n",
    "                    model = RandomForestClassifier(\n",
    "                        n_estimators=n_estimators,\n",
    "                        max_depth=max_depth,\n",
    "                        min_samples_split=min_samples_split,\n",
    "                        min_samples_leaf=min_samples_leaf,\n",
    "                        max_features=max_features,\n",
    "                        random_state=3\n",
    "                    )\n",
    "                    model.fit(X_train, y_train)\n",
    "                    y_test_pred = model.predict(X_test)\n",
    "                    acc = accuracy_score(y_test, y_test_pred)\n",
    "                    if acc > best_acc:\n",
    "                        best_acc = acc\n",
    "                        best_params = {\n",
    "                            'n_estimators': n_estimators,\n",
    "                            'max_depth': max_depth,\n",
    "                            'min_samples_split': min_samples_split,\n",
    "                            'min_samples_leaf': min_samples_leaf,\n",
    "                            'max_features': max_features\n",
    "                        }\n",
    "                        best_model = model\n",
    "print(\"최고 정확도:\", best_acc)\n",
    "print(\"최적 파라미터:\", best_params)"
   ]
  },
  {
   "cell_type": "code",
   "execution_count": 8,
   "id": "33d53b59",
   "metadata": {},
   "outputs": [
    {
     "name": "stdout",
     "output_type": "stream",
     "text": [
      "Train Accuracy: 0.9988\n",
      "Test Accuracy: 0.8754\n",
      "Train AUC: 1.0000\n",
      "Test AUC: 0.9371\n"
     ]
    }
   ],
   "source": [
    "# 7. 최적 모델로 train/test 정확도, AUC 출력\n",
    "y_train_pred = best_model.predict(X_train)\n",
    "y_test_pred = best_model.predict(X_test)\n",
    "y_train_proba = best_model.predict_proba(X_train)[:, 1]\n",
    "y_test_proba = best_model.predict_proba(X_test)[:, 1]\n",
    "\n",
    "train_acc = accuracy_score(y_train, y_train_pred)\n",
    "test_acc = accuracy_score(y_test, y_test_pred)\n",
    "train_auc = roc_auc_score(y_train, y_train_proba)\n",
    "test_auc = roc_auc_score(y_test, y_test_proba)\n",
    "\n",
    "print(f\"Train Accuracy: {train_acc:.4f}\")\n",
    "print(f\"Test Accuracy: {test_acc:.4f}\")\n",
    "print(f\"Train AUC: {train_auc:.4f}\")\n",
    "print(f\"Test AUC: {test_auc:.4f}\")"
   ]
  },
  {
   "cell_type": "code",
   "execution_count": 9,
   "id": "969e4df9",
   "metadata": {},
   "outputs": [
    {
     "name": "stdout",
     "output_type": "stream",
     "text": [
      "              precision    recall  f1-score   support\n",
      "\n",
      "           0       0.87      0.88      0.87       294\n",
      "           1       0.88      0.87      0.88       316\n",
      "\n",
      "    accuracy                           0.88       610\n",
      "   macro avg       0.88      0.88      0.88       610\n",
      "weighted avg       0.88      0.88      0.88       610\n",
      "\n"
     ]
    }
   ],
   "source": [
    "# 8. 상세 분류 리포트 출력 (테스트 데이터 기준)\n",
    "print(classification_report(y_test, y_test_pred))"
   ]
  },
  {
   "cell_type": "code",
   "execution_count": 10,
   "id": "3fd358a7",
   "metadata": {},
   "outputs": [
    {
     "data": {
      "image/png": "[encoded data removed]",
      "text/plain": [
       "<Figure size 640x480 with 2 Axes>"
      ]
     },
     "metadata": {},
     "output_type": "display_data"
    }
   ],
   "source": [
    "# 9. Confusion Matrix 시각화\n",
    "ConfusionMatrixDisplay.from_estimator(best_model, X_test, y_test)\n",
    "plt.title(\"Confusion Matrix - Test Data\")\n",
    "plt.show()"
   ]
  },
  {
   "cell_type": "code",
   "execution_count": null,
   "id": "05dc890e",
   "metadata": {},
   "outputs": [],
   "source": [
    "# 10. ROC Curve 시각화\n",
    "RocCurveDisplay.from_estimator(best_model, X_test, y_test)\n",
    "plt.title(\"ROC Curve - Test Data\")\n",
    "plt.show()"
   ]
  },
  {
   "cell_type": "code",
   "execution_count": null,
   "id": "37b6ee68",
   "metadata": {},
   "outputs": [],
   "source": [
    "# 11. Feature Importance 시각화\n",
    "importances = best_model.feature_importances_\n",
    "features = X.columns\n",
    "feature_df = pd.DataFrame({'Feature': features, 'Importance': importances})\n",
    "feature_df = feature_df.sort_values(by='Importance', ascending=False)\n",
    "\n",
    "plt.figure(figsize=(12, 6))\n",
    "sns.barplot(x='Importance', y='Feature', data=feature_df)\n",
    "plt.title('Feature Importance - Random Forest')\n",
    "plt.tight_layout()\n",
    "plt.show()"
   ]
  },
  {
   "cell_type": "code",
   "execution_count": null,
   "id": "fbb2a293",
   "metadata": {},
   "outputs": [],
   "source": [
    "# 12. 모델 저장\n",
    "joblib.dump(best_model, 'best_random_forest_model_manual.pkl')\n",
    "print(\"모델이 'best_random_forest_model_manual.pkl' 파일로 저장되었습니다.\")"
   ]
  }
 ],
 "metadata": {
  "kernelspec": {
   "display_name": "base",
   "language": "python",
   "name": "python3"
  },
  "language_info": {
   "codemirror_mode": {
    "name": "ipython",
    "version": 3
   },
   "file_extension": ".py",
   "mimetype": "text/x-python",
   "name": "python",
   "nbconvert_exporter": "python",
   "pygments_lexer": "ipython3",
   "version": "3.11.5"
  }
 },
 "nbformat": 4,
 "nbformat_minor": 5
}
