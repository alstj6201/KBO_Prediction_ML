{
 "cells": [
  {
   "cell_type": "markdown",
   "id": "3fe6d821",
   "metadata": {},
   "source": [
    "## 상관 행렬 계산\n",
    "\n",
    "상관 행렬을 보며 상관 계수가 높은 column을 1개만 남기고 제거하여 ML시 효율적으로 train 할 수 있도록 함"
   ]
  },
  {
   "cell_type": "code",
   "execution_count": null,
   "id": "7a00e42c",
   "metadata": {},
   "outputs": [],
   "source": [
    "import pandas as pd\n",
    "import matplotlib.pyplot as plt\n",
    "import seaborn as sns\n",
    "\n",
    "# CSV 파일 불러오기\n",
    "df = pd.read_csv('processed_baseball_2021_encoding.csv')\n",
    "\n",
    "# 상관행렬 계산 (숫자형 데이터만)\n",
    "correlation_matrix = df.corr(numeric_only=True)\n",
    "\n",
    "# 히트맵 시각화\n",
    "plt.figure(figsize=(20, 15))\n",
    "sns.heatmap(correlation_matrix, annot=True, cmap='coolwarm', fmt=\".2f\", linewidths=0.5)\n",
    "plt.title('Correlation Matrix of Baseball Data')\n",
    "plt.tight_layout()\n",
    "plt.show()"
   ]
  },
  {
   "cell_type": "markdown",
   "id": "2f2e3020",
   "metadata": {},
   "source": [
    "## 다중공선성 계산"
   ]
  },
  {
   "cell_type": "code",
   "execution_count": null,
   "id": "7cefd370",
   "metadata": {},
   "outputs": [],
   "source": [
    "import pandas as pd\n",
    "from statsmodels.stats.outliers_influence import variance_inflation_factor\n",
    "from statsmodels.tools.tools import add_constant\n",
    "\n",
    "# CSV 파일 불러오기\n",
    "df = pd.read_csv('processed_baseball_2021_encoding.csv')\n",
    "\n",
    "# 숫자형 변수만 선택\n",
    "numeric_df = df.select_dtypes(include=['float64', 'int64']).dropna()\n",
    "\n",
    "# 상수항 추가\n",
    "X = add_constant(numeric_df)\n",
    "\n",
    "# VIF 계산\n",
    "vif_data = pd.DataFrame()\n",
    "vif_data['feature'] = X.columns\n",
    "vif_data['VIF'] = [variance_inflation_factor(X.values, i) for i in range(X.shape[1])]\n",
    "\n",
    "# 결과 출력\n",
    "print(vif_data)"
   ]
  }
 ],
 "metadata": {
  "kernelspec": {
   "display_name": "Python 3",
   "language": "python",
   "name": "python3"
  },
  "language_info": {
   "name": "python",
   "version": "3.12.2"
  }
 },
 "nbformat": 4,
 "nbformat_minor": 5
}
